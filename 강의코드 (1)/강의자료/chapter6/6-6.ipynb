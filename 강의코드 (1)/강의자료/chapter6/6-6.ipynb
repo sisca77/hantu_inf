{
 "cells": [
  {
   "cell_type": "markdown",
   "metadata": {},
   "source": [
    "# 1. Slack 설치"
   ]
  },
  {
   "cell_type": "code",
   "execution_count": 1,
   "metadata": {},
   "outputs": [
    {
     "name": "stdout",
     "output_type": "stream",
     "text": [
      "Requirement already satisfied: slack_sdk in /root/.virtualenv/trader/lib/python3.10/site-packages (3.27.1)\n"
     ]
    }
   ],
   "source": [
    "# slack_sdk 패키지 설치\n",
    "\n",
    "!pip install slack_sdk"
   ]
  },
  {
   "cell_type": "markdown",
   "metadata": {},
   "source": [
    "---\n",
    "# 2. Slack_sdk 초기설정\n",
    "\n",
    "- slack_sdk 패키지 import\n",
    "- WebClient 연결"
   ]
  },
  {
   "cell_type": "code",
   "execution_count": 15,
   "metadata": {},
   "outputs": [],
   "source": [
    "# slack_sdk 패키지에서 필요 정보 불러오기\n",
    "\n",
    "from slack_sdk import WebClient\n",
    "import os\n",
    "\n",
    "slack_key = '~'\n",
    "channel_id = '~'\n",
    "\n",
    "\n",
    "client = WebClient(token=os.environ.get(slack_key))\n",
    "client.token = slack_key"
   ]
  },
  {
   "cell_type": "markdown",
   "metadata": {},
   "source": [
    "---\n",
    "# 3. post_message 함수로 메세지 테스트 메세지 보내보기"
   ]
  },
  {
   "cell_type": "code",
   "execution_count": 9,
   "metadata": {},
   "outputs": [],
   "source": [
    "# 보낼 메세지와 보낼 채널 정보를 받아오는 post_message 함수\n",
    "\n",
    "def post_message(message,channel_id = None):\n",
    "    client.chat_postMessage(\n",
    "        channel=channel_id,\n",
    "        text=message,\n",
    "        mrkdwn=False\n",
    "    )\n"
   ]
  },
  {
   "cell_type": "code",
   "execution_count": 10,
   "metadata": {},
   "outputs": [],
   "source": [
    "# 테스트 메세지를 보내본다\n",
    "post_message('test message',channel_id=channel_id)"
   ]
  },
  {
   "cell_type": "markdown",
   "metadata": {},
   "source": [
    "---\n",
    "# 4. HantuStock에 slack api 추가하기\n",
    "\n",
    "- Slack 클래스 생성\n",
    "- HantuStock이 Slack 클래스를 상속하도록 개발"
   ]
  },
  {
   "cell_type": "code",
   "execution_count": 12,
   "metadata": {},
   "outputs": [],
   "source": [
    "# Slack 클래스 생성\n",
    "class Slack:\n",
    "    def activate_slack(self,slack_key):\n",
    "        \n",
    "        self.client = WebClient(token=os.environ.get(slack_key))\n",
    "        self.client.token = slack_key\n",
    "\n",
    "    def post_message(self,message,channel_id = None):\n",
    "        self.client.chat_postMessage(\n",
    "            channel=channel_id,\n",
    "            text=message,\n",
    "            mrkdwn=False\n",
    "        )\n"
   ]
  },
  {
   "cell_type": "code",
   "execution_count": 13,
   "metadata": {},
   "outputs": [],
   "source": [
    "# HantuStock이 Slack을 상속받게 하려면 아래와 같이 괄호 안에 Slack 함수를 넣어줌\n",
    "class HantuTest(Slack):\n",
    "    def some_codes(self):\n",
    "        pass"
   ]
  },
  {
   "cell_type": "code",
   "execution_count": 17,
   "metadata": {},
   "outputs": [],
   "source": [
    "# HantuStock이 Slack을 상속받게 만든 후, Slack 클래스의 activate_slack를 실행\n",
    "ht = HantuTest()"
   ]
  },
  {
   "cell_type": "code",
   "execution_count": null,
   "metadata": {},
   "outputs": [],
   "source": [
    "ht.activate_slack(slack_key=slack_key)\n",
    "ht.post_message('test message for HantuTest',channel_id=channel_id)"
   ]
  },
  {
   "cell_type": "markdown",
   "metadata": {},
   "source": [
    "---\n",
    "# 5. 사용 예시"
   ]
  },
  {
   "cell_type": "code",
   "execution_count": null,
   "metadata": {},
   "outputs": [],
   "source": [
    "# HantuStock 패키지 불러오기\n",
    "\n",
    "import pandas as pd\n",
    "import time\n",
    "from datetime import datetime\n",
    "from dateutil.relativedelta import relativedelta\n",
    "import yaml\n",
    "\n",
    "with open('config.yaml', 'r') as f:\n",
    "    config = yaml.load(f, Loader=yaml.FullLoader)\n",
    "\n",
    "api_key = config['hantu']['api_key']\n",
    "secret_key = config['hantu']['secret_key']\n",
    "account_id = config['hantu']['account_id']\n",
    "\n",
    "from HantuStock import HantuStock\n",
    "\n",
    "ht = HantuStock(api_key=api_key,secret_key=secret_key,account_id=account_id)\n",
    "ht.activate_slack(slack_key=slack_key)"
   ]
  },
  {
   "cell_type": "code",
   "execution_count": null,
   "metadata": {},
   "outputs": [],
   "source": [
    "# 슬랙 활용 방법 예시 - 매도주문 이후 알림\n",
    "\n",
    "ticker_to_sell = ['005930','000660']\n",
    "\n",
    "while True:\n",
    "    current_time = datetime.now()\n",
    "\n",
    "    if current_time.hour == 15 and current_time.minute == 20:\n",
    "        holdings = ht.get_holding_stock()\n",
    "        \n",
    "        for tkr in ticker_to_sell:\n",
    "            ht.ask(tkr,'market',holdings[tkr],'STOCK')\n",
    "            # 매도주문 직후 post_message로 매도주문의 상세정보를 slack으로 보내줌\n",
    "            ht.post_message('{} 매도주문!'.format(tkr))\n",
    "\n",
    "    time.sleep(1)\n"
   ]
  },
  {
   "cell_type": "code",
   "execution_count": null,
   "metadata": {},
   "outputs": [],
   "source": []
  }
 ],
 "metadata": {
  "kernelspec": {
   "display_name": "trader",
   "language": "python",
   "name": "python3"
  },
  "language_info": {
   "codemirror_mode": {
    "name": "ipython",
    "version": 3
   },
   "file_extension": ".py",
   "mimetype": "text/x-python",
   "name": "python",
   "nbconvert_exporter": "python",
   "pygments_lexer": "ipython3",
   "version": "3.10.12"
  }
 },
 "nbformat": 4,
 "nbformat_minor": 2
}
