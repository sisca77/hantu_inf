{
 "cells": [
  {
   "cell_type": "markdown",
   "metadata": {},
   "source": [
    "# 1. 실거래 패키지 준비\n",
    "\n",
    "- 6-5-1에서 만든 HantuStock 패키지를 준비"
   ]
  },
  {
   "cell_type": "code",
   "execution_count": 1,
   "metadata": {},
   "outputs": [],
   "source": [
    "# 패키지 import 및 api key 불러오기\n",
    "\n",
    "import pandas as pd\n",
    "import time\n",
    "import requests\n",
    "import json\n",
    "from datetime import datetime\n",
    "\n",
    "import FinanceDataReader as fdr\n",
    "from pykrx import stock as pystock\n",
    "\n",
    "from dateutil.relativedelta import relativedelta\n",
    "import yaml\n",
    "\n",
    "with open('config.yaml', 'r') as f:\n",
    "    config = yaml.load(f, Loader=yaml.FullLoader)\n",
    "\n",
    "api_key = config['hantu']['api_key']\n",
    "secret_key = config['hantu']['secret_key']\n",
    "account_id = config['hantu']['account_id']"
   ]
  },
  {
   "cell_type": "code",
   "execution_count": null,
   "metadata": {},
   "outputs": [],
   "source": [
    "# HantuStock 패키지 불러오기\n",
    "# 앞서 실습에서 만든 HantuStock 클래스를 통째로 복사해, HantuStock.py 파일을 만들고 그 안에 붙여넣기\n",
    "\n",
    "from HantuStock import HantuStock\n",
    "\n",
    "ht = HantuStock(api_key=api_key,secret_key=secret_key,account_id=account_id)"
   ]
  },
  {
   "cell_type": "markdown",
   "metadata": {},
   "source": [
    "---\n",
    "# 2. 전략 구현\n",
    "\n",
    "4장 전략을 구현. 구현 단계는 아래와 같음\n",
    "\n",
    "- 전략 관련 데이터를 저장할 json 파일 생성\n",
    "- 현재 보유중인 종목 조회\n",
    "- 매도할 종목(매수 3일차 종목) 선정\n",
    "- 보유 종목 중 당일 종가에 매도할 종목 정리\n",
    "- 전략의 시간을 체크할 while문 작성\n",
    "- 종가 진입종목 탐색\n",
    "    - 이동평균 계산하기\n",
    "    - 조건에 맞는 종목 찾기\n",
    "- 선정한 종목 매수/매도 주문"
   ]
  },
  {
   "cell_type": "code",
   "execution_count": 3,
   "metadata": {},
   "outputs": [],
   "source": [
    "# 전략 관련 데이터를 저장할 json 파일 생성\n",
    "try:\n",
    "    with open('strategy_data.json','r') as f:\n",
    "        strategy_data = json.load(f)\n",
    "except:\n",
    "    # strategy_data.json 파일이 존재하지 않는 경우\n",
    "    strategy_data = {\n",
    "        'holding_period': {} # 종목별 보유기간\n",
    "        }"
   ]
  },
  {
   "cell_type": "code",
   "execution_count": 7,
   "metadata": {},
   "outputs": [],
   "source": [
    "# 현재 보유중인 종목 조회\n",
    "\n",
    "holdings = ht.get_holding_stock()\n",
    "\n",
    "# holding_period를 하루씩 높여줌\n",
    "# holding_period가 3 이상인 종목은 종가에 매도(매수 3일차 종가에 매도)\n",
    "for tkr in holdings:\n",
    "    if tkr not in strategy_data['holding_period']:\n",
    "        # 처음엔 holding_period에 티커값이 저장되어있지 않음. 따라서, 1로 초기화\n",
    "        strategy_data['holding_period'][tkr] = 1\n",
    "    else:\n",
    "        # 값이 저장되어있는 종목은 1씩 값을 높여줌\n",
    "        strategy_data['holding_period'][tkr] += 1\n",
    "\n",
    "# 보유 종목 중 당일 종가에 매도할 종목 정리\n",
    "ticker_to_sell = []\n",
    "for tkr in holdings:\n",
    "    if strategy_data['holding_period'][tkr] >= 3:\n",
    "        ticker_to_sell.append(tkr)"
   ]
  },
  {
   "cell_type": "code",
   "execution_count": 8,
   "metadata": {},
   "outputs": [
    {
     "data": {
      "text/plain": [
       "{'holding_period': {'004310': 1,\n",
       "  '078140': 1,\n",
       "  '082850': 1,\n",
       "  '089030': 1,\n",
       "  '094480': 1,\n",
       "  '267260': 1,\n",
       "  '317850': 1,\n",
       "  '421800': 1,\n",
       "  '430230': 1,\n",
       "  '436610': 1,\n",
       "  '438220': 1}}"
      ]
     },
     "execution_count": 8,
     "metadata": {},
     "output_type": "execute_result"
    }
   ],
   "source": [
    "# 전략의 시간을 체크할 while문 작성\n",
    "while True:\n",
    "    current_time = datetime.now()\n",
    "\n",
    "    # 여기 내부에서 전략이 실행됨 \n",
    "\n",
    "    if current_time.hour == 15 and current_time.minute == 20:\n",
    "        # 종가 매도할 종목 매도주문\n",
    "        for tkr in ticker_to_sell:\n",
    "            ht.ask(tkr,'market',holdings[tkr],'STOCK')\n",
    "            strategy_data['holding_period'][tkr] = 0 # 매도후엔 holding_period를 초기화해줌\n",
    "\n",
    "\n",
    "        # 종가 진입종목 탐색\n",
    "        data = ht.get_past_data_total(n=20)\n",
    "        \n",
    "        # 5일 종가 최저값, 20일 이동평균 계산하기\n",
    "        data['5d_min_close'] = data.groupby('ticker')['close'].rolling(5).min().reset_index().set_index('level_1')['close']\n",
    "        data['20d_ma'] = data.groupby('ticker')['close'].rolling(20).mean().reset_index().set_index('level_1')['close']\n",
    "\n",
    "        # 조건에 맞는 종목 찾기 - 최근 5일 종가 중 오늘 종가가 가장 낮고, 20일 이동평균보다 종가가 더 낮은 경우\n",
    "        today_data = data[data['timestamp'] == data['timestamp'].max()]\n",
    "        today_data = today_data[(today_data['5d_min_close'] == today_data['close']) & (today_data['20d_ma'] > today_data['close'])]\n",
    "\n",
    "        # 지금 보유중인 종목은 매수후보에서 제외\n",
    "        today_data = today_data[~today_data['ticker'].isin(holdings.keys())]\n",
    "\n",
    "        # 그 중 거래량이 가장 많았던 10종목 고르기\n",
    "        entry_tickers = list(today_data.sort_values('trade_amount')[-10:]['ticker'])\n",
    "\n",
    "        # 선정한 종목 매수\n",
    "        for tkr in entry_tickers:\n",
    "            ht.bid(tkr,'market',1,'STOCK')\n",
    "\n",
    "        break\n",
    "\n",
    "    # 루프 돌때마다 1초씩 쉬어줌\n",
    "    time.sleep(1)"
   ]
  },
  {
   "cell_type": "code",
   "execution_count": null,
   "metadata": {},
   "outputs": [],
   "source": []
  }
 ],
 "metadata": {
  "kernelspec": {
   "display_name": "trader",
   "language": "python",
   "name": "python3"
  },
  "language_info": {
   "codemirror_mode": {
    "name": "ipython",
    "version": 3
   },
   "file_extension": ".py",
   "mimetype": "text/x-python",
   "name": "python",
   "nbconvert_exporter": "python",
   "pygments_lexer": "ipython3",
   "version": "3.10.12"
  }
 },
 "nbformat": 4,
 "nbformat_minor": 2
}
