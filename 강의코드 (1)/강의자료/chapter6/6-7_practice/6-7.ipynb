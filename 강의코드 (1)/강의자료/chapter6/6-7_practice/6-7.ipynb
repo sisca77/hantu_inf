{
 "cells": [
  {
   "cell_type": "markdown",
   "metadata": {},
   "source": [
    "# 1. 전략 자동실행 준비물\n",
    "\n",
    "- crontab 설치\n",
    "- .py 파일로 작성된 전략 코드"
   ]
  },
  {
   "cell_type": "code",
   "execution_count": 2,
   "metadata": {},
   "outputs": [
    {
     "name": "stdout",
     "output_type": "stream",
     "text": [
      "Reading package lists... Done\n",
      "Building dependency tree... 0%\r"
     ]
    },
    {
     "name": "stdout",
     "output_type": "stream",
     "text": [
      "Building dependency tree... Done\n",
      "Reading state information... Done\n",
      "cron is already the newest version (3.0pl1-137ubuntu3).\n",
      "0 upgraded, 0 newly installed, 0 to remove and 18 not upgraded.\n"
     ]
    }
   ],
   "source": [
    "# crontab 설치\n",
    "\n",
    "!sudo apt install cron"
   ]
  },
  {
   "cell_type": "code",
   "execution_count": null,
   "metadata": {},
   "outputs": [],
   "source": []
  },
  {
   "cell_type": "markdown",
   "metadata": {},
   "source": [
    "---\n",
    "# 2. crontab 설정\n",
    "\n",
    "- 전략 코드까지 준비 완료됐다면, crontab으로 전략을 자동실행하는 코드 추가"
   ]
  },
  {
   "cell_type": "raw",
   "metadata": {
    "vscode": {
     "languageId": "raw"
    }
   },
   "source": [
    "- crontab 구성\n",
    "    - 분 시 일 월 요일 터미널코드\n",
    "\n",
    "- 예시 crontab\n",
    "    - 30 8 * * 1-5 /root/.virtualenv/trader/bin/python3 /root/trading_lectures/notebook/chapter6/6-7_practice/HantuStock.py\n",
    "    - 매일 월~금마다 오전 8:30에 /root/.virtualenv/trader/bin/python3 /root/trading_lectures/notebook/chapter6/6-7_practice/HantuStock.py 코드를 실행한다는 의미\n",
    "\n",
    "\n",
    "- crontab -e 명령어로 crontab을 열고, 위에서 작성한 코드를 붙여넣으면 완성"
   ]
  },
  {
   "cell_type": "code",
   "execution_count": null,
   "metadata": {},
   "outputs": [],
   "source": []
  }
 ],
 "metadata": {
  "kernelspec": {
   "display_name": "trader",
   "language": "python",
   "name": "python3"
  },
  "language_info": {
   "codemirror_mode": {
    "name": "ipython",
    "version": 3
   },
   "file_extension": ".py",
   "mimetype": "text/x-python",
   "name": "python",
   "nbconvert_exporter": "python",
   "pygments_lexer": "ipython3",
   "version": "3.10.12"
  }
 },
 "nbformat": 4,
 "nbformat_minor": 2
}
